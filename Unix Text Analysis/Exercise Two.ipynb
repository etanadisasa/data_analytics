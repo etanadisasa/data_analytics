{
 "cells": [
  {
   "cell_type": "code",
   "execution_count": 15,
   "metadata": {},
   "outputs": [],
   "source": [
    "d = open('Deuteronomy5.txt', 'r')"
   ]
  },
  {
   "cell_type": "code",
   "execution_count": 16,
   "metadata": {},
   "outputs": [],
   "source": [
    "d = open('Deuteronomy5.txt', 'r')\n",
    "import operator, time, string\n",
    "start = time.time()\n",
    "deutero = {}\n",
    "for line in d:\n",
    "    line=line.split()\n",
    "    for word in line:\n",
    "        word = word.lower()\n",
    "        new_word = word.translate(string.maketrans (\"\",\"\"), string.punctuation)\n",
    "        if new_word in deutero:\n",
    "            deutero[new_word]+=1\n",
    "        else:\n",
    "            deutero[new_word]=1"
   ]
  },
  {
   "cell_type": "code",
   "execution_count": 17,
   "metadata": {},
   "outputs": [
    {
     "name": "stdout",
     "output_type": "stream",
     "text": [
      "Run took 0.466912984848  seconds.\n",
      "Number of distinct words:  295\n"
     ]
    }
   ],
   "source": [
    "sorted_deutero=sorted(deutero.iteritems(), key=operator.itemgetter(1),reverse=True)\n",
    "elapsed=time.time() - start\n",
    "print 'Run took', elapsed, ' seconds.'\n",
    "print 'Number of distinct words: ', len(sorted_deutero)"
   ]
  },
  {
   "cell_type": "code",
   "execution_count": 18,
   "metadata": {},
   "outputs": [
    {
     "name": "stdout",
     "output_type": "stream",
     "text": [
      "('the', 52)\n",
      "('and', 41)\n",
      "('of', 34)\n",
      "('that', 27)\n",
      "('thy', 26)\n",
      "('jehovah', 24)\n",
      "('thou', 20)\n",
      "('god', 19)\n",
      "('in', 16)\n",
      "('unto', 15)\n",
      "('them', 15)\n",
      "('shalt', 14)\n",
      "('ye', 13)\n",
      "('all', 12)\n",
      "('to', 12)\n",
      "('thee', 12)\n",
      "('with', 11)\n",
      "('nor', 10)\n",
      "('his', 9)\n",
      "('not', 9)\n",
      "('your', 9)\n",
      "('me', 9)\n",
      "('it', 9)\n",
      "('out', 8)\n",
      "('have', 8)\n",
      "('may', 8)\n",
      "('a', 8)\n",
      "('for', 7)\n",
      "('shall', 7)\n",
      "('we', 7)\n",
      "('or', 7)\n",
      "('fire', 7)\n",
      "('us', 7)\n",
      "('voice', 7)\n",
      "('is', 7)\n",
      "('as', 7)\n",
      "('which', 7)\n",
      "('i', 7)\n",
      "('do', 6)\n",
      "('day', 6)\n",
      "('our', 6)\n",
      "('this', 6)\n",
      "('you', 6)\n",
      "('they', 5)\n",
      "('neither', 5)\n",
      "('speak', 5)\n",
      "('midst', 5)\n",
      "('heard', 5)\n",
      "('commanded', 5)\n",
      "('land', 5)\n"
     ]
    }
   ],
   "source": [
    "npopular = 50\n",
    "x = range(npopular)\n",
    "y = []\n",
    "for pair in range(npopular):\n",
    "    y = y + [sorted_deutero[pair][1]]\n",
    "    print sorted_deutero[pair]"
   ]
  },
  {
   "cell_type": "code",
   "execution_count": 20,
   "metadata": {},
   "outputs": [
    {
     "data": {
      "text/plain": [
       "[('the', 52),\n",
       " ('and', 41),\n",
       " ('of', 34),\n",
       " ('that', 27),\n",
       " ('thy', 26),\n",
       " ('jehovah', 24),\n",
       " ('thou', 20),\n",
       " ('god', 19),\n",
       " ('in', 16),\n",
       " ('unto', 15)]"
      ]
     },
     "execution_count": 20,
     "metadata": {},
     "output_type": "execute_result"
    }
   ],
   "source": [
    "sorted_deutero[0:10]"
   ]
  },
  {
   "cell_type": "code",
   "execution_count": 1,
   "metadata": {},
   "outputs": [
    {
     "data": {
      "text/plain": [
       "[u'austen-emma.txt',\n",
       " u'austen-persuasion.txt',\n",
       " u'austen-sense.txt',\n",
       " u'bible-kjv.txt',\n",
       " u'blake-poems.txt',\n",
       " u'bryant-stories.txt',\n",
       " u'burgess-busterbrown.txt',\n",
       " u'carroll-alice.txt',\n",
       " u'chesterton-ball.txt',\n",
       " u'chesterton-brown.txt',\n",
       " u'chesterton-thursday.txt',\n",
       " u'edgeworth-parents.txt',\n",
       " u'melville-moby_dick.txt',\n",
       " u'milton-paradise.txt',\n",
       " u'shakespeare-caesar.txt',\n",
       " u'shakespeare-hamlet.txt',\n",
       " u'shakespeare-macbeth.txt',\n",
       " u'whitman-leaves.txt']"
      ]
     },
     "execution_count": 1,
     "metadata": {},
     "output_type": "execute_result"
    }
   ],
   "source": [
    "from nltk.corpus import gutenberg\n",
    "gutenberg.fileids()"
   ]
  },
  {
   "cell_type": "code",
   "execution_count": 21,
   "metadata": {},
   "outputs": [],
   "source": [
    "g = open('Exodus30.txt', 'r').read()\n",
    "import string, re, operator\n",
    "from nltk.corpus import stopwords"
   ]
  },
  {
   "cell_type": "code",
   "execution_count": 22,
   "metadata": {},
   "outputs": [
    {
     "data": {
      "text/plain": [
       "['1',\n",
       " 'and',\n",
       " 'thou',\n",
       " 'shalt',\n",
       " 'make',\n",
       " 'an',\n",
       " 'altar',\n",
       " 'to',\n",
       " 'burn',\n",
       " 'incense',\n",
       " 'upon',\n",
       " 'of',\n",
       " 'acacia',\n",
       " 'wood',\n",
       " 'shalt',\n",
       " 'thou',\n",
       " 'make',\n",
       " 'it',\n",
       " '2',\n",
       " 'a',\n",
       " 'cubit',\n",
       " 'shall',\n",
       " 'be',\n",
       " 'the',\n",
       " 'length',\n",
       " 'thereof',\n",
       " 'and',\n",
       " 'a',\n",
       " 'cubit',\n",
       " 'the',\n",
       " 'breadth',\n",
       " 'thereof',\n",
       " 'foursquare',\n",
       " 'shall',\n",
       " 'it',\n",
       " 'be',\n",
       " 'and',\n",
       " 'two',\n",
       " 'cubits',\n",
       " 'shall',\n",
       " 'be',\n",
       " 'the',\n",
       " 'height',\n",
       " 'thereof',\n",
       " 'the',\n",
       " 'horns',\n",
       " 'thereof',\n",
       " 'shall',\n",
       " 'be',\n",
       " 'of']"
      ]
     },
     "execution_count": 22,
     "metadata": {},
     "output_type": "execute_result"
    }
   ],
   "source": [
    "g = g.lower()\n",
    "exodus = g\n",
    "exodus[:50]\n",
    "'\\xef\\xbb\\xbf\\r\\n\\r\\nthou shalt'\n",
    "exodus = re.split(r'\\W+',exodus)\n",
    "exodus[:50]"
   ]
  },
  {
   "cell_type": "code",
   "execution_count": 23,
   "metadata": {},
   "outputs": [],
   "source": [
    "from nltk.corpus import stopwords"
   ]
  },
  {
   "cell_type": "code",
   "execution_count": 24,
   "metadata": {},
   "outputs": [
    {
     "data": {
      "text/plain": [
       "['1',\n",
       " 'thou',\n",
       " 'shalt',\n",
       " 'make',\n",
       " 'altar',\n",
       " 'burn',\n",
       " 'incense',\n",
       " 'upon',\n",
       " 'acacia',\n",
       " 'wood',\n",
       " 'shalt',\n",
       " 'thou',\n",
       " 'make',\n",
       " '2',\n",
       " 'cubit',\n",
       " 'shall',\n",
       " 'length',\n",
       " 'thereof',\n",
       " 'cubit',\n",
       " 'breadth',\n",
       " 'thereof',\n",
       " 'foursquare',\n",
       " 'shall',\n",
       " 'two',\n",
       " 'cubits',\n",
       " 'shall',\n",
       " 'height',\n",
       " 'thereof',\n",
       " 'horns',\n",
       " 'thereof',\n",
       " 'shall',\n",
       " 'one',\n",
       " 'piece',\n",
       " '3',\n",
       " 'thou',\n",
       " 'shalt',\n",
       " 'overlay',\n",
       " 'pure',\n",
       " 'gold',\n",
       " 'top',\n",
       " 'thereof',\n",
       " 'sides',\n",
       " 'thereof',\n",
       " 'round',\n",
       " 'horns',\n",
       " 'thereof',\n",
       " 'thou',\n",
       " 'shalt',\n",
       " 'make',\n",
       " 'unto']"
      ]
     },
     "execution_count": 24,
     "metadata": {},
     "output_type": "execute_result"
    }
   ],
   "source": [
    "stop = stopwords.words('english')\n",
    "exodus = [j for j in exodus if j not in stop]\n",
    "exodus[:50]"
   ]
  },
  {
   "cell_type": "code",
   "execution_count": 28,
   "metadata": {},
   "outputs": [
    {
     "data": {
      "text/plain": [
       "['thou',\n",
       " 'shalt',\n",
       " 'make',\n",
       " 'altar',\n",
       " 'burn',\n",
       " 'incense',\n",
       " 'upon',\n",
       " 'acacia',\n",
       " 'wood',\n",
       " 'shalt',\n",
       " 'thou',\n",
       " 'make',\n",
       " 'cubit',\n",
       " 'shall',\n",
       " 'length',\n",
       " 'thereof',\n",
       " 'cubit',\n",
       " 'breadth',\n",
       " 'thereof',\n",
       " 'foursquare',\n",
       " 'shall',\n",
       " 'two',\n",
       " 'cubits',\n",
       " 'shall',\n",
       " 'height',\n",
       " 'thereof',\n",
       " 'horns',\n",
       " 'thereof',\n",
       " 'shall',\n",
       " 'one',\n",
       " 'piece',\n",
       " 'thou',\n",
       " 'shalt',\n",
       " 'overlay',\n",
       " 'pure',\n",
       " 'gold',\n",
       " 'top',\n",
       " 'thereof',\n",
       " 'sides',\n",
       " 'thereof',\n",
       " 'round',\n",
       " 'horns',\n",
       " 'thereof',\n",
       " 'thou',\n",
       " 'shalt',\n",
       " 'make',\n",
       " 'unto',\n",
       " 'crown',\n",
       " 'gold',\n",
       " 'round']"
      ]
     },
     "execution_count": 28,
     "metadata": {},
     "output_type": "execute_result"
    }
   ],
   "source": [
    "# I didn't wand to remove words here, but I had used the \"remove\" \n",
    "# command to get rid of the bible verse number. \n",
    "remove_list = ['1','2','3']\n",
    "exodus = [j for j in exodus if j not in remove_list]\n",
    "exodus[:50]"
   ]
  },
  {
   "cell_type": "code",
   "execution_count": 26,
   "metadata": {},
   "outputs": [],
   "source": [
    "new_exodus ={}\n",
    "for new_word in exodus:\n",
    "    if new_word in new_exodus:\n",
    "        new_exodus[new_word]+=1\n",
    "    else:\n",
    "        new_exodus[new_word]=1"
   ]
  },
  {
   "cell_type": "code",
   "execution_count": 27,
   "metadata": {},
   "outputs": [
    {
     "name": "stdout",
     "output_type": "stream",
     "text": [
      "('shall', 34)\n",
      "('thou', 24)\n",
      "('shalt', 21)\n",
      "('unto', 19)\n",
      "('thereof', 17)\n",
      "('make', 17)\n",
      "('jehovah', 13)\n",
      "('holy', 11)\n",
      "('offering', 9)\n",
      "('incense', 7)\n",
      "('atonement', 6)\n",
      "('shekel', 6)\n",
      "('two', 6)\n",
      "('give', 6)\n",
      "('upon', 6)\n",
      "('aaron', 5)\n",
      "('thee', 5)\n",
      "('tent', 5)\n",
      "('burn', 5)\n",
      "('sweet', 5)\n",
      "('meeting', 5)\n",
      "('altar', 5)\n",
      "('saying', 4)\n",
      "('children', 4)\n",
      "('moses', 4)\n"
     ]
    }
   ],
   "source": [
    "sorted_new_exodus = sorted(new_exodus.iteritems(), key=operator.itemgetter(1), reverse = True)\n",
    "npopular = 25\n",
    "x = range(npopular)\n",
    "y = []\n",
    "for pair in range(npopular):\n",
    "    y=y+[sorted_new_exodus[pair][1]]\n",
    "    print sorted_new_exodus[pair]"
   ]
  },
  {
   "cell_type": "code",
   "execution_count": null,
   "metadata": {},
   "outputs": [],
   "source": []
  },
  {
   "cell_type": "code",
   "execution_count": null,
   "metadata": {},
   "outputs": [],
   "source": []
  }
 ],
 "metadata": {
  "kernelspec": {
   "display_name": "Python 2",
   "language": "python",
   "name": "python2"
  },
  "language_info": {
   "codemirror_mode": {
    "name": "ipython",
    "version": 2
   },
   "file_extension": ".py",
   "mimetype": "text/x-python",
   "name": "python",
   "nbconvert_exporter": "python",
   "pygments_lexer": "ipython2",
   "version": "2.7.15"
  }
 },
 "nbformat": 4,
 "nbformat_minor": 2
}
