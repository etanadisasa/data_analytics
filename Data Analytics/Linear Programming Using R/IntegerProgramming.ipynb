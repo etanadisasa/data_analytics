{
 "cells": [
  {
   "cell_type": "markdown",
   "metadata": {},
   "source": [
    "# Integer Programming\n",
    "## Problem 1"
   ]
  },
  {
   "cell_type": "markdown",
   "metadata": {},
   "source": [
    "#### A marketing company sells its products via direct marketing (door to door), and by making phone calls which includes mailing out materials. What is the best way for the salesperson to spend their day without exceeding a 7-hour work day? Consider the following:"
   ]
  },
  {
   "cell_type": "markdown",
   "metadata": {},
   "source": [
    "### Sales methods\n",
    "1. Direct: 18min/house/business contact including drive time – 0.2 success rate\n",
    "    1. 1 Sale = 50USD(commission) - 2USD(gas) - 1.5USD(materials)\n",
    "    2. Average paid = 9.3USD(commission) = (46.50USD * .20rate)\n",
    "2. Phone: 8min/dial (including materials) – 0.05( success rate)\n",
    "    1. 1 Sale = 50USD(commission) - 1.5USD(materials) - 0.49USD(postage)\n",
    "    2. Average paid = 2.4USD(commission) = (48.01USD * .05rate)"
   ]
  },
  {
   "cell_type": "markdown",
   "metadata": {},
   "source": [
    "#### Import PuLp"
   ]
  },
  {
   "cell_type": "code",
   "execution_count": 51,
   "metadata": {},
   "outputs": [],
   "source": [
    "from pulp import *"
   ]
  },
  {
   "cell_type": "markdown",
   "metadata": {},
   "source": [
    "#### Create a variable to contain the problem data"
   ]
  },
  {
   "cell_type": "code",
   "execution_count": 52,
   "metadata": {},
   "outputs": [],
   "source": [
    "sales1 = LpProblem(\"Direct Marketing\", LpMaximize)"
   ]
  },
  {
   "cell_type": "markdown",
   "metadata": {},
   "source": [
    "#### Create the two variables needed with a lower limit of zero"
   ]
  },
  {
   "cell_type": "code",
   "execution_count": 53,
   "metadata": {},
   "outputs": [],
   "source": [
    "i = LpVariable(\"phone\", 0, None, LpInteger)\n",
    "j = LpVariable(\"direct\", 0, None, LpInteger)"
   ]
  },
  {
   "cell_type": "markdown",
   "metadata": {},
   "source": [
    "#### Add the objective function"
   ]
  },
  {
   "cell_type": "code",
   "execution_count": 54,
   "metadata": {},
   "outputs": [],
   "source": [
    "sales1 += 2.4*i + 9.3*j, \"dollars collected\"\n",
    "sales1 += 8*i + 18*j <= 420, \"time\""
   ]
  },
  {
   "cell_type": "markdown",
   "metadata": {},
   "source": [
    "#### Write the data in a .lp file"
   ]
  },
  {
   "cell_type": "code",
   "execution_count": 55,
   "metadata": {},
   "outputs": [],
   "source": [
    "sales1.writeLP(\"DirectMarketing.lp\")"
   ]
  },
  {
   "cell_type": "markdown",
   "metadata": {},
   "source": [
    "#### Solve the problem"
   ]
  },
  {
   "cell_type": "code",
   "execution_count": 56,
   "metadata": {},
   "outputs": [
    {
     "data": {
      "text/plain": [
       "1"
      ]
     },
     "execution_count": 56,
     "metadata": {},
     "output_type": "execute_result"
    }
   ],
   "source": [
    "sales1.solve()"
   ]
  },
  {
   "cell_type": "markdown",
   "metadata": {},
   "source": [
    "#### Viewing the status"
   ]
  },
  {
   "cell_type": "code",
   "execution_count": 57,
   "metadata": {},
   "outputs": [
    {
     "name": "stdout",
     "output_type": "stream",
     "text": [
      "Optimal\n"
     ]
    }
   ],
   "source": [
    "print(LpStatus[sales1.status])"
   ]
  },
  {
   "cell_type": "markdown",
   "metadata": {},
   "source": [
    "#### Viewing the optimum value for each variable and then displaying the total. "
   ]
  },
  {
   "cell_type": "code",
   "execution_count": 58,
   "metadata": {},
   "outputs": [
    {
     "name": "stdout",
     "output_type": "stream",
     "text": [
      "direct = 23.0\n",
      "phone = 0.0\n",
      "Total Commission 213.9\n"
     ]
    }
   ],
   "source": [
    "for x in sales1.variables():\n",
    "    print(x.name, \"=\", x.varValue)\n",
    "print('Total Commission', value(sales1.objective))"
   ]
  },
  {
   "cell_type": "markdown",
   "metadata": {},
   "source": [
    "## Problem 2\n",
    "#### What would time spent on the phones need to be reduced to in order to make it an option? In this problem everything is kept the same except the time spent on the phones is reduced from 8 minutes to 5.\n",
    "### Sales Method\n",
    "1. Direct: 18min/house/business contact including drive time – 0.2 success rate\n",
    "    1. 1 Sale = 50USD(commission) - 2USD(gas) - 1.5USD(materials)\n",
    "    2. Average paid = 9.3USD(commission) = (46.50USD * .20rate)\n",
    "2. Phone: 5min/dial (including materials) – 0.05( success rate)\n",
    "    1. 1 Sale = 50USD(commission) - 1.5USD(materials) - 0.49USD(postage)\n",
    "    2. Average paid = 2.4USD(commission) = (48.01USD * .05rate)"
   ]
  },
  {
   "cell_type": "markdown",
   "metadata": {},
   "source": [
    "#### Repeat the same process"
   ]
  },
  {
   "cell_type": "code",
   "execution_count": 59,
   "metadata": {},
   "outputs": [
    {
     "data": {
      "text/plain": [
       "1"
      ]
     },
     "execution_count": 59,
     "metadata": {},
     "output_type": "execute_result"
    }
   ],
   "source": [
    "sales2 = LpProblem(\"Direct Marketing\", LpMaximize)\n",
    "i = LpVariable(\"phone\", 0, None, LpInteger)\n",
    "j = LpVariable(\"direct\", 0, None, LpInteger)\n",
    "sales2 += 2.4*i + 9.3*j, \"dollars collected\"\n",
    "sales2 += 5*i + 18*j <= 420, \"time\"\n",
    "sales2.writeLP(\"DirectMarketing.lp\")\n",
    "sales2.solve()"
   ]
  },
  {
   "cell_type": "code",
   "execution_count": 60,
   "metadata": {},
   "outputs": [
    {
     "name": "stdout",
     "output_type": "stream",
     "text": [
      "Optimal\n"
     ]
    }
   ],
   "source": [
    "print(LpStatus[sales2.status])"
   ]
  },
  {
   "cell_type": "code",
   "execution_count": 61,
   "metadata": {},
   "outputs": [
    {
     "name": "stdout",
     "output_type": "stream",
     "text": [
      "direct = 23.0\n",
      "phone = 1.0\n"
     ]
    }
   ],
   "source": [
    "for y in sales2.variables():\n",
    "    print(y.name, \"=\", y.varValue)"
   ]
  },
  {
   "cell_type": "code",
   "execution_count": 62,
   "metadata": {},
   "outputs": [
    {
     "name": "stdout",
     "output_type": "stream",
     "text": [
      "Total commission 216.3\n"
     ]
    }
   ],
   "source": [
    "print('Total commission', value(sales2.objective))"
   ]
  },
  {
   "cell_type": "markdown",
   "metadata": {},
   "source": [
    "## Problem 3\n",
    "#### What if everything is kept constant except for the phone success rate? It is changed from 5% to 7%\n",
    "### Sales Method\n",
    "1. Direct: 18min/house/business contact including drive time – 0.2 success rate\n",
    "    1. 1 Sale = 50USD(commission) - 2USD(gas) - 1.5USD(materials)\n",
    "    2. Average paid = 9.3USD(commission) = (46.50USD * .20rate)\n",
    "2. Phone: 8min/dial (including materials) – 0.05( success rate)\n",
    "    1. 1 Sale = 50USD(commission) - 1.5USD(materials) - 0.49USD(postage)\n",
    "    2. Average paid = 3.36USD(commission) = (48.01USD * .07rate)"
   ]
  },
  {
   "cell_type": "markdown",
   "metadata": {},
   "source": [
    "#### Repeat the same process"
   ]
  },
  {
   "cell_type": "code",
   "execution_count": 63,
   "metadata": {},
   "outputs": [
    {
     "data": {
      "text/plain": [
       "1"
      ]
     },
     "execution_count": 63,
     "metadata": {},
     "output_type": "execute_result"
    }
   ],
   "source": [
    "sales3 = LpProblem(\"Direct Marketing\", LpMaximize)\n",
    "i = LpVariable(\"phone\", 0, None, LpInteger)\n",
    "j = LpVariable(\"direct\", 0, None, LpInteger)\n",
    "sales3 += 3.36*i + 9.3*j, \"dollars collected\"\n",
    "sales3 += 8*i + 18*j <= 420, \"time\"\n",
    "sales3.writeLP(\"DirectMarketing.lp\")\n",
    "sales3.solve()"
   ]
  },
  {
   "cell_type": "code",
   "execution_count": 64,
   "metadata": {},
   "outputs": [
    {
     "name": "stdout",
     "output_type": "stream",
     "text": [
      "Optimal\n"
     ]
    }
   ],
   "source": [
    "print(LpStatus[sales3.status])"
   ]
  },
  {
   "cell_type": "code",
   "execution_count": 65,
   "metadata": {},
   "outputs": [
    {
     "name": "stdout",
     "output_type": "stream",
     "text": [
      "direct = 22.0\n",
      "phone = 3.0\n"
     ]
    }
   ],
   "source": [
    "for z in sales3.variables():\n",
    "    print(z.name, \"=\", z.varValue)"
   ]
  },
  {
   "cell_type": "code",
   "execution_count": 66,
   "metadata": {},
   "outputs": [
    {
     "name": "stdout",
     "output_type": "stream",
     "text": [
      "Total commission 214.68000000000004\n"
     ]
    }
   ],
   "source": [
    "print('Total commission', value(sales3.objective))"
   ]
  }
 ],
 "metadata": {
  "kernelspec": {
   "display_name": "Python 3",
   "language": "python",
   "name": "python3"
  },
  "language_info": {
   "codemirror_mode": {
    "name": "ipython",
    "version": 3
   },
   "file_extension": ".py",
   "mimetype": "text/x-python",
   "name": "python",
   "nbconvert_exporter": "python",
   "pygments_lexer": "ipython3",
   "version": "3.6.5"
  }
 },
 "nbformat": 4,
 "nbformat_minor": 2
}
